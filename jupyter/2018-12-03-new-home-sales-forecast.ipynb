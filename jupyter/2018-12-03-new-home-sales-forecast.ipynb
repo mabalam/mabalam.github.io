{
 "cells": [
  {
   "cell_type": "markdown",
   "metadata": {},
   "source": [
    "# Time Series Analysis & Forecasting of New Home Sales"
   ]
  },
  {
   "cell_type": "markdown",
   "metadata": {},
   "source": [
    "## Table of Contents\n",
    "1. Introduction\n",
    "2. Objectives\n",
    "3. Data & Methods  \n",
    "4. Results  \n",
    "    4.1 Exploratory Data Analysis (EDA)  \n",
    "    4.2 Forecasting\n",
    "        4.2.1 Input data & decomposition  \n",
    "        4.2.2 Forecasting with HW Exponential Smoothing  \n",
    "        4.2.3 Forecasting with ETS  \n",
    "        4.2.4 Forecasting with ARIMA   \n",
    "5. Discussion & Conclusion  \n",
    "    5.1 Model evaluation  \n",
    "    5.2 General conclusions  \n",
    "    5.3 Discussion\n",
    "   "
   ]
  },
  {
   "cell_type": "markdown",
   "metadata": {},
   "source": [
    "## 1. Introduction\n",
    "New house construction & sales play a significant role in housing economy. Besides generating employment it simultaneously  impacts timber, furniture and appliance markets. It's an important indicator of country's overall economic health too. Over the last 50 years, as we will see below, there has been few significant bumps and turning points in housing market, which shaped the trajectory of the US economy.  "
   ]
  },
  {
   "cell_type": "markdown",
   "metadata": {},
   "source": [
    "## 2. Objectives\n",
    "The objectives of this analysis are two-fold: (1) review and discuss historical patterns in new home sales; and (2) test different forecasting models and run short-term forecasting of new home sales. "
   ]
  },
  {
   "cell_type": "markdown",
   "metadata": {},
   "source": [
    "## 3. Data & methods\n",
    "- The time series data I am working with comes from [census.gov](https://bit.ly/2Sp1ALz). This is a great source for time series data sets on a large number of social, economic and business indicators. \n",
    "- I downloaded the \"New Singly-Family House Sold\" series. This is not seasonally adjusted, but there is one such series called \"Annual Rate of Single-Family House Sold\", which has already gone through some data treatments already for seasonal adjustments, so I rather prefered the \"raw\" data instead, which is reported monthly and not adjusted. \n",
    "- Key terms in this dataset are \"new\", \"single-family house\" and \"sold\". [Check out](https://www.census.gov/construction/nrs/definitions/index.html) the definition of these and other related terms. \n",
    "- I am doing the analysis in R. Although Python has great `ts` [resources](https://www.statsmodels.org), but for forecasting R has the best package, `forecast`, developed by Rob J Hyndman. "
   ]
  },
  {
   "cell_type": "code",
   "execution_count": 1,
   "metadata": {
    "scrolled": true
   },
   "outputs": [
    {
     "name": "stderr",
     "output_type": "stream",
     "text": [
      "Loading required package: ggplot2\n",
      "Loading required package: forecast\n",
      "Loading required package: fma\n",
      "Loading required package: expsmooth\n",
      "\n",
      "Attaching package: 'dplyr'\n",
      "\n",
      "The following objects are masked from 'package:stats':\n",
      "\n",
      "    filter, lag\n",
      "\n",
      "The following objects are masked from 'package:base':\n",
      "\n",
      "    intersect, setdiff, setequal, union\n",
      "\n"
     ]
    }
   ],
   "source": [
    "# Required packages\n",
    "library(fpp2)\n",
    "library(forecast)\n",
    "library(readxl)\n",
    "library(ggplot2)\n",
    "library(seasonal)\n",
    "library(dplyr)\n",
    "\n",
    "options(warn=0)"
   ]
  },
  {
   "cell_type": "code",
   "execution_count": 3,
   "metadata": {},
   "outputs": [
    {
     "data": {
      "text/html": [
       "<table>\n",
       "<thead><tr><th scope=col>Period</th><th scope=col>Value</th></tr></thead>\n",
       "<tbody>\n",
       "\t<tr><td>Jan-1963</td><td>42      </td></tr>\n",
       "\t<tr><td>Feb-1963</td><td>35      </td></tr>\n",
       "\t<tr><td>Mar-1963</td><td>44      </td></tr>\n",
       "</tbody>\n",
       "</table>\n"
      ],
      "text/latex": [
       "\\begin{tabular}{r|ll}\n",
       " Period & Value\\\\\n",
       "\\hline\n",
       "\t Jan-1963 & 42      \\\\\n",
       "\t Feb-1963 & 35      \\\\\n",
       "\t Mar-1963 & 44      \\\\\n",
       "\\end{tabular}\n"
      ],
      "text/markdown": [
       "\n",
       "Period | Value | \n",
       "|---|---|---|\n",
       "| Jan-1963 | 42       | \n",
       "| Feb-1963 | 35       | \n",
       "| Mar-1963 | 44       | \n",
       "\n",
       "\n"
      ],
      "text/plain": [
       "  Period   Value\n",
       "1 Jan-1963 42   \n",
       "2 Feb-1963 35   \n",
       "3 Mar-1963 44   "
      ]
     },
     "metadata": {},
     "output_type": "display_data"
    }
   ],
   "source": [
    "# data import\n",
    "df = read.csv(\"C:/Users/DataS/Google Drive/Python/Datasets/usnewhousesold.csv\", skip=6)\n",
    "head(df)[1:3,]"
   ]
  },
  {
   "cell_type": "code",
   "execution_count": 4,
   "metadata": {},
   "outputs": [],
   "source": [
    "# keep only `Value` column\n",
    "df = df[, c(2)]"
   ]
  },
  {
   "cell_type": "code",
   "execution_count": 271,
   "metadata": {},
   "outputs": [],
   "source": [
    "# convert the values into a time series object\n",
    "series = ts(df, start = 1963, frequency =12)"
   ]
  },
  {
   "cell_type": "markdown",
   "metadata": {},
   "source": [
    "## 4. Results"
   ]
  },
  {
   "cell_type": "markdown",
   "metadata": {},
   "source": [
    "### 4.1 EDA"
   ]
  },
  {
   "cell_type": "code",
   "execution_count": 578,
   "metadata": {
    "scrolled": false
   },
   "outputs": [
    {
     "data": {},
     "metadata": {},
     "output_type": "display_data"
    },
    {
     "data": {
      "image/png": "[encoded data removed]",
      "text/plain": [
       "plot without title"
      ]
     },
     "metadata": {},
     "output_type": "display_data"
    }
   ],
   "source": [
    "options(repr.plot.width = 6, repr.plot.height = 3)\n",
    "\n",
    "# plot the series\n",
    "autoplot(series)+ \n",
    "xlab(\"Time\") + ylab(\"New home sales '000\") + ggtitle(\" Figure 1: New home sales series\")+\n",
    "theme(plot.title = element_text(size=8))"
   ]
  },
  {
   "cell_type": "code",
   "execution_count": 583,
   "metadata": {
    "scrolled": false
   },
   "outputs": [
    {
     "data": {},
     "metadata": {},
     "output_type": "display_data"
    },
    {
     "data": {
      "image/png": "[encoded data removed]",
      "text/plain": [
       "plot without title"
      ]
     },
     "metadata": {},
     "output_type": "display_data"
    }
   ],
   "source": [
    "# Seasonal sub-series plot (the horizontal bar indicates montly mean values)\n",
    "options(repr.plot.width = 10, repr.plot.height = 3)\n",
    "\n",
    "series_season = window(series, start=c(1963,1), end=c(2017,12))\n",
    "ggsubseriesplot(series_season) + ylab(\" \") +\n",
    "ggtitle(\"Figure 2: Seasonal sbseries plot\")+\n",
    "theme(plot.title = element_text(size=10))"
   ]
  },
  {
   "cell_type": "code",
   "execution_count": 590,
   "metadata": {
    "scrolled": false
   },
   "outputs": [
    {
     "data": {},
     "metadata": {},
     "output_type": "display_data"
    },
    {
     "data": {
      "image/png": "[encoded data removed]",
      "text/plain": [
       "plot without title"
      ]
     },
     "metadata": {},
     "output_type": "display_data"
    }
   ],
   "source": [
    "options(repr.plot.width = 6, repr.plot.height = 3)\n",
    "\n",
    "# remove seasonality (monthly variation) to see yearly changes\n",
    "series_ma = ma(series, 12)\n",
    "autoplot(series_ma) + \n",
    "xlab(\"Time\") + ylab(\"New home sales '000\")+\n",
    "ggtitle(\"Figure 3: The series after removing seasonality\" )+\n",
    "theme(plot.title = element_text(size=8))"
   ]
  },
  {
   "cell_type": "code",
   "execution_count": 593,
   "metadata": {
    "scrolled": false
   },
   "outputs": [
    {
     "data": {},
     "metadata": {},
     "output_type": "display_data"
    },
    {
     "data": {
      "image/png": "[encoded data removed]",
      "text/plain": [
       "plot without title"
      ]
     },
     "metadata": {},
     "output_type": "display_data"
    }
   ],
   "source": [
    "options(repr.plot.width = 6, repr.plot.height = 3)\n",
    "\n",
    "# zooming in to the down time, which is clearly between 2005 to 2012\n",
    "series_downtime = window(series, start=c(2005,3), end=c(2012,2))\n",
    "autoplot(series_downtime) + \n",
    "xlab(\"Time\") + ylab(\"New home sales '000\")+\n",
    "ggtitle(\" Figure 4: New home sales down time\")+\n",
    "theme(plot.title = element_text(size=8))"
   ]
  },
  {
   "cell_type": "markdown",
   "metadata": {},
   "source": [
    "**EDA Summary**\n",
    "- Figure 1 shows clear seasonality all through, with a bit of cyclic pattern.\n",
    "- In terms of seasonality, not surprisingly, home sales starts to go up in the spring, peaks during summer, then goes down in the fall. This is predictable in most years, except the years between 2005-2012 (Figure 1 & 3).\n",
    "- After removing seasonality few things stand out (figure 3): there wasn't much movement (i.e. trend) in new home sales until 1990, other than the seasonality and a vague 4-5 year cycle. Post-1990 the market saw a boom, a steady growth that continued until 2005 - and which is when the market started to crash. The downward spiral continues for 8 years until 2012 (Figure 4). There has been a recovery since then with another steady growth, and with predictable seasonality (also see Figure 5), but with no cyclic patterns (mimicking 1990-2005).\n",
    "- Sales were down more than 80% from average 127k/month to 23k/month during the \"crash\" years. Currently at 52k/month the sales is still 60% down compared to pre-2005 sales."
   ]
  },
  {
   "cell_type": "markdown",
   "metadata": {},
   "source": [
    "## 4.2 Forecasting\n",
    "- In time series forecasting historical data is used as predictors of future values. But from Figure 3 it is clear that the distant past isn't any good in predicting the next 5-10 years. It is also clear that the segment in this series which may be useful for prediction is post-2012\\ data (but see the [Appendix](#appendix) for prediction with the whole series)\n",
    "- Decomposed data shows a predictable seasonality and trend component (Figure 6), so any complex modeling doesn't seem necessary. A Holt Winter Exponential smoothing or ARIMA should work just fine for forecasting. Nevertheless, I'm using 3 different methods to compare: ETS, HW Exponential Smoothing and ARIMA. There are plenty of literature on the internet on these forecasting methods, so I'm not going to discuss them ([and there is another good reason for not discussing theories!](https://data2decision.net/2018/11/16/learning-data-science-by-examples-rather-than-theories/)).\n"
   ]
  },
  {
   "cell_type": "markdown",
   "metadata": {},
   "source": [
    "### 4.2.1 Input data & Decomposition"
   ]
  },
  {
   "cell_type": "code",
   "execution_count": 594,
   "metadata": {},
   "outputs": [
    {
     "data": {},
     "metadata": {},
     "output_type": "display_data"
    },
    {
     "data": {
      "image/png": "[encoded data removed]",
      "text/plain": [
       "plot without title"
      ]
     },
     "metadata": {},
     "output_type": "display_data"
    }
   ],
   "source": [
    "options(repr.plot.width = 6, repr.plot.height = 3)\n",
    "\n",
    "# slicing 2012-2018 data as predictor series\n",
    "onwards2012 = window(series, start=c(2012,1), end=c(2018,9))\n",
    "autoplot(onwards2012) + labs(caption=\"Figure 5\")+ xlab(\"Time\") + ylab(\"New home sales '000\")+\n",
    "ggtitle(\" Figure 5: Predictor series 2012-2018\")+\n",
    "theme(plot.title = element_text(size=8))"
   ]
  },
  {
   "cell_type": "code",
   "execution_count": 601,
   "metadata": {
    "scrolled": false
   },
   "outputs": [
    {
     "data": {},
     "metadata": {},
     "output_type": "display_data"
    },
    {
     "data": {
      "image/png": "[encoded data removed]",
      "text/plain": [
       "plot without title"
      ]
     },
     "metadata": {},
     "output_type": "display_data"
    }
   ],
   "source": [
    "# decomposition\n",
    "options(repr.plot.width = 6, repr.plot.height = 3)\n",
    "autoplot(decompose(onwards2012)) + ggtitle(\"Figure 6: Decomposition of the series\")+\n",
    "theme(plot.title = element_text(size=8))\n"
   ]
  },
  {
   "cell_type": "markdown",
   "metadata": {},
   "source": [
    "### 4.2.2 Forecasting with HW Exponential Smoothing"
   ]
  },
  {
   "cell_type": "code",
   "execution_count": 462,
   "metadata": {
    "scrolled": true
   },
   "outputs": [],
   "source": [
    "# model\n",
    "forecast_hw=hw(onwards2012, seasonal=\"multiplicative\", h=63)"
   ]
  },
  {
   "cell_type": "code",
   "execution_count": 595,
   "metadata": {
    "scrolled": false
   },
   "outputs": [
    {
     "data": {},
     "metadata": {},
     "output_type": "display_data"
    },
    {
     "data": {
      "image/png": "[encoded data removed]",
      "text/plain": [
       "plot without title"
      ]
     },
     "metadata": {},
     "output_type": "display_data"
    }
   ],
   "source": [
    "options(repr.plot.width = 10, repr.plot.height = 3)\n",
    "\n",
    "# plot\n",
    "autoplot(series, series = \" 1963-2011 series\")+ \n",
    "autolayer(onwards2012, series = \"Predictor series\")+\n",
    "autolayer(forecast_hw, series=\"Holt-Winter forecast\")+\n",
    " xlab(\"Time\") + ylab(\"New home sales '000\")+\n",
    "ggtitle(\"Figure 7: HW Exponential Smoothing\")+\n",
    "theme(plot.title = element_text(size=8))"
   ]
  },
  {
   "cell_type": "code",
   "execution_count": 602,
   "metadata": {},
   "outputs": [
    {
     "data": {
      "text/html": [
       "866"
      ],
      "text/latex": [
       "866"
      ],
      "text/markdown": [
       "866"
      ],
      "text/plain": [
       "[1] 866"
      ]
     },
     "metadata": {},
     "output_type": "display_data"
    }
   ],
   "source": [
    "# point forecast for 2023 annual sales of new homes\n",
    "forecast2023hw=tail(forecast_hw$mean, n=12)\n",
    "forecast2023hw = sum(forecast2023hw)\n",
    "round(forecast2023hw)"
   ]
  },
  {
   "cell_type": "code",
   "execution_count": 464,
   "metadata": {},
   "outputs": [
    {
     "data": {
      "text/html": [
       "<table>\n",
       "<thead><tr><th></th><th scope=col>ME</th><th scope=col>RMSE</th><th scope=col>MAE</th><th scope=col>MPE</th><th scope=col>MAPE</th><th scope=col>MASE</th><th scope=col>ACF1</th></tr></thead>\n",
       "<tbody>\n",
       "\t<tr><th scope=row>Training set</th><td>-0.04761822</td><td>2.599018   </td><td>1.989132   </td><td>-0.443716  </td><td>4.86829    </td><td>0.424923   </td><td>0.2685747  </td></tr>\n",
       "</tbody>\n",
       "</table>\n"
      ],
      "text/latex": [
       "\\begin{tabular}{r|lllllll}\n",
       "  & ME & RMSE & MAE & MPE & MAPE & MASE & ACF1\\\\\n",
       "\\hline\n",
       "\tTraining set & -0.04761822 & 2.599018    & 1.989132    & -0.443716   & 4.86829     & 0.424923    & 0.2685747  \\\\\n",
       "\\end{tabular}\n"
      ],
      "text/markdown": [
       "\n",
       "| <!--/--> | ME | RMSE | MAE | MPE | MAPE | MASE | ACF1 | \n",
       "|---|\n",
       "| Training set | -0.04761822 | 2.599018    | 1.989132    | -0.443716   | 4.86829     | 0.424923    | 0.2685747   | \n",
       "\n",
       "\n"
      ],
      "text/plain": [
       "             ME          RMSE     MAE      MPE       MAPE    MASE     ACF1     \n",
       "Training set -0.04761822 2.599018 1.989132 -0.443716 4.86829 0.424923 0.2685747"
      ]
     },
     "metadata": {},
     "output_type": "display_data"
    }
   ],
   "source": [
    "# Diagnostics/accuracy test\n",
    "accuracy(forecast_hw)"
   ]
  },
  {
   "cell_type": "code",
   "execution_count": 465,
   "metadata": {
    "scrolled": false
   },
   "outputs": [
    {
     "data": {
      "text/plain": [
       "$model\n",
       "Holt-Winters' multiplicative method \n",
       "\n",
       "Call:\n",
       " hw(y = onwards2012, h = 63, seasonal = \"multiplicative\") \n",
       "\n",
       "  Smoothing parameters:\n",
       "    alpha = 0.083 \n",
       "    beta  = 1e-04 \n",
       "    gamma = 2e-04 \n",
       "\n",
       "  Initial states:\n",
       "    l = 28.5117 \n",
       "    b = 0.3191 \n",
       "    s = 0.8684 0.8786 0.943 0.904 0.9184 1.0028\n",
       "           1.102 1.1405 1.1509 1.1622 1.0222 0.9071\n",
       "\n",
       "  sigma:  0.0685\n",
       "\n",
       "     AIC     AICc      BIC \n",
       "539.6391 549.3534 580.3448 \n"
      ]
     },
     "metadata": {},
     "output_type": "display_data"
    }
   ],
   "source": [
    "# model description\n",
    "forecast_hw['model']"
   ]
  },
  {
   "cell_type": "markdown",
   "metadata": {},
   "source": [
    "### 4.2.3 Forecasting with ETS method"
   ]
  },
  {
   "cell_type": "code",
   "execution_count": 466,
   "metadata": {
    "scrolled": false
   },
   "outputs": [],
   "source": [
    "# model\n",
    "forecast_ets = forecast(onwards2012, h=63)"
   ]
  },
  {
   "cell_type": "code",
   "execution_count": 596,
   "metadata": {
    "scrolled": false
   },
   "outputs": [
    {
     "data": {},
     "metadata": {},
     "output_type": "display_data"
    },
    {
     "data": {
      "image/png": "[encoded data removed]",
      "text/plain": [
       "plot without title"
      ]
     },
     "metadata": {},
     "output_type": "display_data"
    }
   ],
   "source": [
    "options(repr.plot.width = 10, repr.plot.height = 3)\n",
    "\n",
    "# plot\n",
    "autoplot(series, series=\" 1963-2011 series\")+\n",
    "autolayer(forecast_ets, series=\" ETS forecast\")+\n",
    "autolayer(onwards2012, series=\" Predictor series\")+\n",
    "ggtitle(\" Figure 8: ETS forecasting\")+\n",
    "theme(plot.title = element_text(size=8))"
   ]
  },
  {
   "cell_type": "code",
   "execution_count": 468,
   "metadata": {},
   "outputs": [
    {
     "data": {
      "text/html": [
       "628"
      ],
      "text/latex": [
       "628"
      ],
      "text/markdown": [
       "628"
      ],
      "text/plain": [
       "[1] 628"
      ]
     },
     "metadata": {},
     "output_type": "display_data"
    }
   ],
   "source": [
    "# point forecast\n",
    "forecast2023ets=tail(forecast_ets$mean, n=12)\n",
    "forecast2023ets = sum(forecast2023ets)\n",
    "round(forecast2023ets)\n"
   ]
  },
  {
   "cell_type": "code",
   "execution_count": 469,
   "metadata": {},
   "outputs": [
    {
     "data": {
      "text/html": [
       "<table>\n",
       "<thead><tr><th></th><th scope=col>ME</th><th scope=col>RMSE</th><th scope=col>MAE</th><th scope=col>MPE</th><th scope=col>MAPE</th><th scope=col>MASE</th><th scope=col>ACF1</th></tr></thead>\n",
       "<tbody>\n",
       "\t<tr><th scope=row>Training set</th><td>-0.01218177</td><td>2.443436   </td><td>1.880336   </td><td>-0.3345021 </td><td>4.560613   </td><td>0.4016816  </td><td>0.02412555 </td></tr>\n",
       "</tbody>\n",
       "</table>\n"
      ],
      "text/latex": [
       "\\begin{tabular}{r|lllllll}\n",
       "  & ME & RMSE & MAE & MPE & MAPE & MASE & ACF1\\\\\n",
       "\\hline\n",
       "\tTraining set & -0.01218177 & 2.443436    & 1.880336    & -0.3345021  & 4.560613    & 0.4016816   & 0.02412555 \\\\\n",
       "\\end{tabular}\n"
      ],
      "text/markdown": [
       "\n",
       "| <!--/--> | ME | RMSE | MAE | MPE | MAPE | MASE | ACF1 | \n",
       "|---|\n",
       "| Training set | -0.01218177 | 2.443436    | 1.880336    | -0.3345021  | 4.560613    | 0.4016816   | 0.02412555  | \n",
       "\n",
       "\n"
      ],
      "text/plain": [
       "             ME          RMSE     MAE      MPE        MAPE     MASE     \n",
       "Training set -0.01218177 2.443436 1.880336 -0.3345021 4.560613 0.4016816\n",
       "             ACF1      \n",
       "Training set 0.02412555"
      ]
     },
     "metadata": {},
     "output_type": "display_data"
    }
   ],
   "source": [
    "# model diagnostics\n",
    "accuracy(forecast_ets)"
   ]
  },
  {
   "cell_type": "code",
   "execution_count": 470,
   "metadata": {
    "scrolled": false
   },
   "outputs": [
    {
     "data": {
      "text/plain": [
       "$model\n",
       "ETS(M,Ad,M) \n",
       "\n",
       "Call:\n",
       " ets(y = object, lambda = lambda, biasadj = biasadj, allow.multiplicative.trend = allow.multiplicative.trend) \n",
       "\n",
       "  Smoothing parameters:\n",
       "    alpha = 0.3755 \n",
       "    beta  = 1e-04 \n",
       "    gamma = 1e-04 \n",
       "    phi   = 0.9786 \n",
       "\n",
       "  Initial states:\n",
       "    l = 28.3077 \n",
       "    b = 0.5548 \n",
       "    s = 0.8442 0.8563 0.9481 0.9062 0.934 1.0062\n",
       "           1.0938 1.152 1.1577 1.167 1.0264 0.9081\n",
       "\n",
       "  sigma:  0.066\n",
       "\n",
       "     AIC     AICc      BIC \n",
       "534.3067 545.3390 577.4068 \n"
      ]
     },
     "metadata": {},
     "output_type": "display_data"
    }
   ],
   "source": [
    "# model description\n",
    "forecast_ets['model']"
   ]
  },
  {
   "cell_type": "markdown",
   "metadata": {},
   "source": [
    "### 4.2.4 Forecasting with ARIMA"
   ]
  },
  {
   "cell_type": "code",
   "execution_count": 443,
   "metadata": {
    "scrolled": false
   },
   "outputs": [],
   "source": [
    "# model\n",
    "fit.arima = auto.arima(onwards2012, seasonal=TRUE, stepwise = FALSE, approximation = FALSE) \n",
    "forecast_arima = forecast(fit.arima, h=63)"
   ]
  },
  {
   "cell_type": "code",
   "execution_count": 597,
   "metadata": {
    "scrolled": false
   },
   "outputs": [
    {
     "data": {},
     "metadata": {},
     "output_type": "display_data"
    },
    {
     "data": {
      "image/png": "[encoded data removed]",
      "text/plain": [
       "plot without title"
      ]
     },
     "metadata": {},
     "output_type": "display_data"
    }
   ],
   "source": [
    "options(repr.plot.width = 10, repr.plot.height = 3)\n",
    "\n",
    "# plot\n",
    "autoplot(series, series=\" 1963-2011 series\")+\n",
    "autolayer(onwards2012, series=\" Input series\")+\n",
    "autolayer(forecast_arima, series=\" ARIMA Forecast\")+\n",
    "ggtitle(\" Figure 9: ARIMA forecasting\")+\n",
    "theme(plot.title = element_text(size=8))"
   ]
  },
  {
   "cell_type": "code",
   "execution_count": 292,
   "metadata": {},
   "outputs": [
    {
     "name": "stdout",
     "output_type": "stream",
     "text": [
      "New house sold in 2023 ('000):  871[1] \"\"\n",
      " Current value ('000):  630"
     ]
    }
   ],
   "source": [
    "# point forecast\n",
    "forecast2023arima=tail(forecast_arima$mean, n=12)\n",
    "forecast2023arima = sum(forecast2023arima)\n",
    "cat(\"New house sold in 2023 ('000): \", round(forecast2023arima)) \n",
    "\n",
    "print('')\n",
    "\n",
    "# current\n",
    "cat(\" Current value ('000): \", sum(tail(onwards2012, n=12)))\n"
   ]
  },
  {
   "cell_type": "code",
   "execution_count": 290,
   "metadata": {},
   "outputs": [
    {
     "data": {
      "text/html": [
       "<table>\n",
       "<thead><tr><th></th><th scope=col>ME</th><th scope=col>RMSE</th><th scope=col>MAE</th><th scope=col>MPE</th><th scope=col>MAPE</th><th scope=col>MASE</th><th scope=col>ACF1</th></tr></thead>\n",
       "<tbody>\n",
       "\t<tr><th scope=row>Training set</th><td>-0.00559027</td><td>2.700185   </td><td>1.896309   </td><td>-0.3889919 </td><td>4.354831   </td><td>0.4050939  </td><td>-0.04456412</td></tr>\n",
       "</tbody>\n",
       "</table>\n"
      ],
      "text/latex": [
       "\\begin{tabular}{r|lllllll}\n",
       "  & ME & RMSE & MAE & MPE & MAPE & MASE & ACF1\\\\\n",
       "\\hline\n",
       "\tTraining set & -0.00559027 & 2.700185    & 1.896309    & -0.3889919  & 4.354831    & 0.4050939   & -0.04456412\\\\\n",
       "\\end{tabular}\n"
      ],
      "text/markdown": [
       "\n",
       "| <!--/--> | ME | RMSE | MAE | MPE | MAPE | MASE | ACF1 | \n",
       "|---|\n",
       "| Training set | -0.00559027 | 2.700185    | 1.896309    | -0.3889919  | 4.354831    | 0.4050939   | -0.04456412 | \n",
       "\n",
       "\n"
      ],
      "text/plain": [
       "             ME          RMSE     MAE      MPE        MAPE     MASE     \n",
       "Training set -0.00559027 2.700185 1.896309 -0.3889919 4.354831 0.4050939\n",
       "             ACF1       \n",
       "Training set -0.04456412"
      ]
     },
     "metadata": {},
     "output_type": "display_data"
    }
   ],
   "source": [
    "# diagnostics\n",
    "accuracy(fit.arima)"
   ]
  },
  {
   "cell_type": "code",
   "execution_count": 291,
   "metadata": {},
   "outputs": [
    {
     "data": {
      "text/html": [
       "364.972982777"
      ],
      "text/latex": [
       "364.972982777"
      ],
      "text/markdown": [
       "364.972982777"
      ],
      "text/plain": [
       "[1] 364.973"
      ]
     },
     "metadata": {},
     "output_type": "display_data"
    }
   ],
   "source": [
    "# AIC\n",
    "fit.arima$aic"
   ]
  },
  {
   "cell_type": "markdown",
   "metadata": {},
   "source": [
    "## 5. Model evaluation and Conclusion\n",
    "\n",
    "** Model comparison **\n",
    "- AIC\n",
    "    - HW: 539.6391 \n",
    "    - ETS: 534.3067 \n",
    "    - ARIMA: 364.97\n",
    "- MAE\n",
    "    - HW: 1.989132\n",
    "    - ETS: 1.880336\n",
    "    - ARIMA: 1.896309 \n",
    "\n",
    "**Main conclusions**\n",
    "- No growth happened in new home sales from 1960s for 30 years until 1990. Then started to climb up until 2005 before starting to collapse in 2005.\n",
    "- New home sales declined by 75% in the 5 years between 2005 and 2010\n",
    "- Sales is recovering since 2012, yet far from the pre-collapse sales\n",
    "- Current sales it about 630k new homes per year\n",
    "- 5-year forecast until 2023 shows total home sales at 870k - a total growth of about 40% (7% per year). This is a business-as-usual scenario, i.e., IF the everything goes as is. \n",
    "- The projected growth is still not even close toe pre-2005 level (>1200k/year). It can take, in the curent trend, 2035 to catch up to 2005 level\n",
    "\n",
    "### Discussion\n",
    "As revealed in [the report came out this week](https://www.census.gov/construction/nrs/pdf/newressales.pdf), and also reported in [Wall Street Journal](https://www.wsj.com/articles/new-home-sales-fell-8-9-in-october-1543417455), seasonally adjusted rate of new home sales has declined by 8.9% in October signaling a market slowdown. Some market analysts expect this to continue, predicting post 2012 boom may be over. It will take a couple of years to understand the trend before we can say with higher certainty  what the future holds for this important market segment.\n"
   ]
  },
  {
   "cell_type": "markdown",
   "metadata": {},
   "source": [
    "**Acknowledgements:** `forecast` package made life made so much easier. Thanks to Rob J Hyndman and collaborators for the great work and graciously making the book \"Forecasting: Principles and Practice\" open access. "
   ]
  },
  {
   "cell_type": "markdown",
   "metadata": {},
   "source": [
    "<a name=\"appendix\"></a>\n",
    "\n",
    "#### Appendix: Alternative forecasting with the whole series (1963-2018)."
   ]
  },
  {
   "cell_type": "code",
   "execution_count": 500,
   "metadata": {
    "scrolled": false
   },
   "outputs": [
    {
     "name": "stderr",
     "output_type": "stream",
     "text": [
      "Warning message in ets(x, \"MAM\", alpha = alpha, beta = beta, gamma = gamma, phi = phi, :\n",
      "\"Missing values encountered. Using longest contiguous portion of time series\""
     ]
    },
    {
     "data": {},
     "metadata": {},
     "output_type": "display_data"
    },
    {
     "data": {
      "image/png": "[encoded data removed]",
      "text/plain": [
       "plot without title"
      ]
     },
     "metadata": {},
     "output_type": "display_data"
    }
   ],
   "source": [
    "options(repr.plot.width = 10, repr.plot.height = 3)\n",
    "\n",
    "hw_series=hw(series, seasonal=\"multiplicative\", h=63)\n",
    "autoplot(series, series=\" Predictor series 1963-2018\")+\n",
    "autolayer(hw_series, series=\" HW Forecast \")+ylab(\"New home sales thousands\")"
   ]
  }
 ],
 "metadata": {
  "kernelspec": {
   "display_name": "R",
   "language": "R",
   "name": "ir"
  },
  "language_info": {
   "codemirror_mode": "r",
   "file_extension": ".r",
   "mimetype": "text/x-r-source",
   "name": "R",
   "pygments_lexer": "r",
   "version": "3.5.1"
  }
 },
 "nbformat": 4,
 "nbformat_minor": 2
}

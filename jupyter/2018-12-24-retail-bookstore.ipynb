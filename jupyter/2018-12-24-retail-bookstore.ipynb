{
 "cells": [
  {
   "cell_type": "markdown",
   "metadata": {},
   "source": [
    "# Predicting the demise of retail bookstores: a time series forecasting"
   ]
  },
  {
   "cell_type": "markdown",
   "metadata": {},
   "source": [
    "## Results and Discussion\n",
    "“The internet is killing retail. Bookstores are just the first to go.” -- quoted in the [NYT article](https://nyti.ms/2Eo5AWc). \n",
    "Signs are everywhere. Book World is closing it's stores and Barnes & Noble closed 10% of it's stores in just the last 5/6 years and this February it shedded [1800 jobs](https://bit.ly/2KjLUFf).  \n",
    "\n",
    "The trend we are seeing will keep accelerating in the next few years. In fact retail bookstores are in death rows, it's a matter of time they will be history. eBooks are partly to blame, but with eBook sales leveling off recently, the remaining affect seems to be online book sales, dominated by, with no surpirse!, Amazon.  \n",
    "\n",
    "So, exactly how long retail bookstores are going to survive? Is it going to be \"Gradually and then suddenly\"? Or could it be  5 years from now? You might wonder: \"5 years? no way!!\". But did you imagine the Amazon effect, or the Facebook effect in, let's say, 2010?  \n",
    "\n",
    "To examine this I've got a nice [time series dataset](https://bit.ly/2BneUsI) from the Census Bereau database. It is a monthly retail sales data (in millions $) from bookstores all across the country. Data were collected monthly as part of Monthly Retail Trade Survey covering 26 years since 1992.    \n",
    "\n",
    "A number of popular forecasting methods are out there, but since the data has seasonality (shown in Figure 1), I choose to run the Holt-Winter Exponential Smoothing (HW) -- a popular forecasting method in machine learning field ( I also ran ARIMA, but the results were less definitive (see appendix)). I am not going into technical discussion on theories behind forecasting methods, as there's a bunch of materials available online if you Google.  \n",
    " \n",
    "So what exactly does the analysis tell? It shows that bookstore sales peaked around 2007, and since then the sales are going downlhill. The HW forecasting predicts that the bookstores may at best survive another 15-20 years from now. This roughly puts the lifeline of bookstores around 2040. That said, some bookstores may well survive beyond 2040, but not as traditional stores, rather as antique books stores.  \n"
   ]
  },
  {
   "cell_type": "markdown",
   "metadata": {},
   "source": [
    "## Notebook"
   ]
  },
  {
   "cell_type": "code",
   "execution_count": 1,
   "metadata": {},
   "outputs": [
    {
     "name": "stderr",
     "output_type": "stream",
     "text": [
      "Loading required package: ggplot2\n",
      "Loading required package: forecast\n",
      "Loading required package: fma\n",
      "Loading required package: expsmooth\n",
      "\n",
      "Attaching package: 'dplyr'\n",
      "\n",
      "The following objects are masked from 'package:stats':\n",
      "\n",
      "    filter, lag\n",
      "\n",
      "The following objects are masked from 'package:base':\n",
      "\n",
      "    intersect, setdiff, setequal, union\n",
      "\n"
     ]
    }
   ],
   "source": [
    "# Required packages\n",
    "library(fpp2)\n",
    "library(forecast)\n",
    "library(readxl)\n",
    "library(ggplot2)\n",
    "library(seasonal)\n",
    "library(dplyr)\n",
    "\n",
    "options(warn=0)"
   ]
  },
  {
   "cell_type": "code",
   "execution_count": 2,
   "metadata": {},
   "outputs": [
    {
     "data": {
      "text/html": [
       "<table>\n",
       "<thead><tr><th></th><th scope=col>Period</th><th scope=col>Value</th></tr></thead>\n",
       "<tbody>\n",
       "\t<tr><th scope=row>319</th><td>Jul-2018</td><td> 661    </td></tr>\n",
       "\t<tr><th scope=row>320</th><td>Aug-2018</td><td>1324    </td></tr>\n",
       "\t<tr><th scope=row>321</th><td>Sep-2018</td><td> 946    </td></tr>\n",
       "\t<tr><th scope=row>322</th><td>Oct-2018</td><td> 699    </td></tr>\n",
       "\t<tr><th scope=row>323</th><td>Nov-2018</td><td>  NA    </td></tr>\n",
       "</tbody>\n",
       "</table>\n"
      ],
      "text/latex": [
       "\\begin{tabular}{r|ll}\n",
       "  & Period & Value\\\\\n",
       "\\hline\n",
       "\t319 & Jul-2018 &  661    \\\\\n",
       "\t320 & Aug-2018 & 1324    \\\\\n",
       "\t321 & Sep-2018 &  946    \\\\\n",
       "\t322 & Oct-2018 &  699    \\\\\n",
       "\t323 & Nov-2018 &   NA    \\\\\n",
       "\\end{tabular}\n"
      ],
      "text/markdown": [
       "\n",
       "| <!--/--> | Period | Value | \n",
       "|---|---|---|---|---|\n",
       "| 319 | Jul-2018 |  661     | \n",
       "| 320 | Aug-2018 | 1324     | \n",
       "| 321 | Sep-2018 |  946     | \n",
       "| 322 | Oct-2018 |  699     | \n",
       "| 323 | Nov-2018 |   NA     | \n",
       "\n",
       "\n"
      ],
      "text/plain": [
       "    Period   Value\n",
       "319 Jul-2018  661 \n",
       "320 Aug-2018 1324 \n",
       "321 Sep-2018  946 \n",
       "322 Oct-2018  699 \n",
       "323 Nov-2018   NA "
      ]
     },
     "metadata": {},
     "output_type": "display_data"
    }
   ],
   "source": [
    "# data import\n",
    "df = read.csv(\"C:/Users/DataS/Google Drive/Python/Datasets/BookSales.csv\", skip=6)\n",
    "tail(df)[1:5,]"
   ]
  },
  {
   "cell_type": "code",
   "execution_count": 3,
   "metadata": {},
   "outputs": [],
   "source": [
    "# keep only the `Value` column\n",
    "df = df[, c(2)]"
   ]
  },
  {
   "cell_type": "code",
   "execution_count": 4,
   "metadata": {},
   "outputs": [],
   "source": [
    "# convert the values into a time series object\n",
    "series = ts(df, start = 1992, frequency =12)"
   ]
  },
  {
   "cell_type": "code",
   "execution_count": 5,
   "metadata": {},
   "outputs": [
    {
     "data": {},
     "metadata": {},
     "output_type": "display_data"
    },
    {
     "data": {
      "image/png": "[encoded data removed]",
      "text/plain": [
       "plot without title"
      ]
     },
     "metadata": {},
     "output_type": "display_data"
    }
   ],
   "source": [
    "options(repr.plot.width = 6, repr.plot.height = 3)\n",
    "\n",
    "# plot the series\n",
    "autoplot(series)+ \n",
    "xlab(\" \") + ylab(\"Retail sales (million US$)\") + ggtitle(\" Figure 1: Bookstores sales series\")+\n",
    "theme(plot.title = element_text(size=8))"
   ]
  },
  {
   "cell_type": "code",
   "execution_count": 6,
   "metadata": {},
   "outputs": [
    {
     "data": {},
     "metadata": {},
     "output_type": "display_data"
    },
    {
     "data": {
      "image/png": "[encoded data removed]",
      "text/plain": [
       "plot without title"
      ]
     },
     "metadata": {},
     "output_type": "display_data"
    }
   ],
   "source": [
    "options(repr.plot.width = 6, repr.plot.height = 3)\n",
    "\n",
    "# Aggregate annual sales\n",
    "annual_sales=aggregate(series, nf=1, FUN=sum) # nf=1 > annual; nf=4 > quarterly; nf=12 > monthly \n",
    "autoplot(annual_sales)"
   ]
  },
  {
   "cell_type": "code",
   "execution_count": 7,
   "metadata": {},
   "outputs": [
    {
     "data": {},
     "metadata": {},
     "output_type": "display_data"
    },
    {
     "data": {
      "image/png": "[encoded data removed]",
      "text/plain": [
       "plot without title"
      ]
     },
     "metadata": {},
     "output_type": "display_data"
    }
   ],
   "source": [
    "# Seasonal sub-series plot \n",
    "options(repr.plot.width = 10, repr.plot.height = 3)\n",
    "\n",
    "series_season = window(series, start=c(1992,1), end=c(2018,10))\n",
    "ggsubseriesplot(series_season) + ylab(\" \") +\n",
    "ggtitle(\"Figure 2: Seasonal sub-series plot (horizontal bars represent monthly mean)\")+ ylab(\"Retail sales (million US$)\")+\n",
    "theme(plot.title = element_text(size=10))"
   ]
  },
  {
   "cell_type": "code",
   "execution_count": 8,
   "metadata": {},
   "outputs": [
    {
     "data": {},
     "metadata": {},
     "output_type": "display_data"
    },
    {
     "data": {
      "image/png": "[encoded data removed]",
      "text/plain": [
       "plot without title"
      ]
     },
     "metadata": {},
     "output_type": "display_data"
    }
   ],
   "source": [
    "options(repr.plot.width = 6, repr.plot.height = 3)\n",
    "\n",
    "# remove seasonality (monthly variation) to see yearly changes\n",
    "series_ma = ma(series, 12)\n",
    "autoplot(series_ma) + \n",
    "xlab(\"Time\") + ylab(\"Retail sales (million US$)\")+\n",
    "ggtitle(\"Figure 3: The series after removing seasonality\" )+\n",
    "theme(plot.title = element_text(size=8))"
   ]
  },
  {
   "cell_type": "code",
   "execution_count": 9,
   "metadata": {},
   "outputs": [
    {
     "data": {},
     "metadata": {},
     "output_type": "display_data"
    },
    {
     "data": {
      "image/png": "[encoded data removed]",
      "text/plain": [
       "plot without title"
      ]
     },
     "metadata": {},
     "output_type": "display_data"
    }
   ],
   "source": [
    "options(repr.plot.width = 6, repr.plot.height = 3)\n",
    "\n",
    "# zooming in to the recent trend\n",
    "series_downtime = window(series_ma, start=c(2007,1), end=c(2018,10))\n",
    "autoplot(series_downtime) + \n",
    "xlab(\"Time\") + ylab(\"Retail sales (million US$)\")+\n",
    "ggtitle(\" Figure 4: Bookstores sales recent trend\")+\n",
    "theme(plot.title = element_text(size=8))"
   ]
  },
  {
   "cell_type": "code",
   "execution_count": 10,
   "metadata": {
    "scrolled": false
   },
   "outputs": [
    {
     "data": {},
     "metadata": {},
     "output_type": "display_data"
    },
    {
     "data": {
      "image/png": "[encoded data removed]",
      "text/plain": [
       "plot without title"
      ]
     },
     "metadata": {},
     "output_type": "display_data"
    }
   ],
   "source": [
    "# decomposition\n",
    "options(repr.plot.width = 6, repr.plot.height = 3)\n",
    "autoplot(decompose(series)) + ggtitle(\"Figure 6: Decomposition of the series\")+\n",
    "theme(plot.title = element_text(size=8))\n"
   ]
  },
  {
   "cell_type": "code",
   "execution_count": 16,
   "metadata": {},
   "outputs": [],
   "source": [
    "# model\n",
    "# forecast_hw=hw(series_downtime, seasonal=\"multiplicative\", h=63)"
   ]
  },
  {
   "cell_type": "code",
   "execution_count": 11,
   "metadata": {
    "scrolled": false
   },
   "outputs": [
    {
     "ename": "ERROR",
     "evalue": "Error in parse(text = x, srcfile = src): <text>:4:3: unexpected string constant\n8: ggtitle(\"Figure 7: HW Exponential Smoothing\")+\n9: theme(plot.title = element_text(size=8))'\n     ^\n",
     "output_type": "error",
     "traceback": [
      "Error in parse(text = x, srcfile = src): <text>:4:3: unexpected string constant\n8: ggtitle(\"Figure 7: HW Exponential Smoothing\")+\n9: theme(plot.title = element_text(size=8))'\n     ^\nTraceback:\n"
     ]
    }
   ],
   "source": [
    "options(repr.plot.width = 10, repr.plot.height = 3)\n",
    "\n",
    "# plot\n",
    "'''autoplot(series, series = \" 1992-2018 series\")+ \n",
    "autolayer(series_downtime, series = \"Predictor series\")+\n",
    "autolayer(forecast_hw, series=\"Holt-Winter forecast\")+\n",
    " xlab(\"Time\") + ylab(\"Retail sales (million US$)\")+\n",
    "ggtitle(\"Figure 7: HW Exponential Smoothing\")+\n",
    "theme(plot.title = element_text(size=8))'''"
   ]
  },
  {
   "cell_type": "code",
   "execution_count": 12,
   "metadata": {},
   "outputs": [],
   "source": [
    "# predictor series\n",
    "predictor_series =  window(series, start=c(2007,1), end=c(2018,10))"
   ]
  },
  {
   "cell_type": "code",
   "execution_count": 13,
   "metadata": {},
   "outputs": [],
   "source": [
    "# model\n",
    "forecast_hw=hw(predictor_series, seasonal=\"multiplicative\", h=260)"
   ]
  },
  {
   "cell_type": "code",
   "execution_count": 14,
   "metadata": {},
   "outputs": [
    {
     "name": "stderr",
     "output_type": "stream",
     "text": [
      "Warning message:\n",
      "\"Removed 14 rows containing missing values (geom_path).\""
     ]
    },
    {
     "data": {},
     "metadata": {},
     "output_type": "display_data"
    },
    {
     "data": {
      "image/png": "[encoded data removed]",
      "text/plain": [
       "plot without title"
      ]
     },
     "metadata": {},
     "output_type": "display_data"
    }
   ],
   "source": [
    "options(repr.plot.width = 10, repr.plot.height = 3)\n",
    "\n",
    "# ploting the predictions\n",
    "autoplot(series, series = \" 1992-2011 series\")+ \n",
    "autolayer(series_ma, series = \"12-month moving average\")+\n",
    "autolayer(forecast_hw, series=\"Holt-Winter forecast\")+\n",
    " xlab(\"Time\") + ylab(\"Retail sales (million US$)\")+\n",
    "ggtitle(\"Figure 7: HW Exponential Smoothing\")+\n",
    "theme(plot.title = element_text(size=8))"
   ]
  },
  {
   "cell_type": "code",
   "execution_count": 21,
   "metadata": {},
   "outputs": [],
   "source": [
    "# Fiting & prediction with ARIMA\n",
    "fit.arima = auto.arima(series, seasonal=TRUE, stepwise = FALSE, approximation = FALSE) \n",
    "forecast_arima = forecast(fit.arima, h=160)"
   ]
  },
  {
   "cell_type": "code",
   "execution_count": 68,
   "metadata": {
    "scrolled": true
   },
   "outputs": [
    {
     "name": "stderr",
     "output_type": "stream",
     "text": [
      "Warning message:\n",
      "\"Removed 14 rows containing missing values (geom_path).\""
     ]
    },
    {
     "data": {},
     "metadata": {},
     "output_type": "display_data"
    },
    {
     "data": {
      "image/png": "[encoded data removed]",
      "text/plain": [
       "plot without title"
      ]
     },
     "metadata": {},
     "output_type": "display_data"
    }
   ],
   "source": [
    "options(repr.plot.width = 10, repr.plot.height = 3)\n",
    "\n",
    "# ploting ARIMA predictions\n",
    "autoplot(series, series=\" 1992-2018 series\")+\n",
    "autolayer(series_ma, series=\" Input series\")+\n",
    "autolayer(forecast_arima, series=\" ARIMA Forecast\")+\n",
    "ggtitle(\" Figure 9: ARIMA forecasting\")+\n",
    "theme(plot.title = element_text(size=8))"
   ]
  }
 ],
 "metadata": {
  "kernelspec": {
   "display_name": "R",
   "language": "R",
   "name": "ir"
  },
  "language_info": {
   "codemirror_mode": "r",
   "file_extension": ".r",
   "mimetype": "text/x-r-source",
   "name": "R",
   "pygments_lexer": "r",
   "version": "3.5.1"
  }
 },
 "nbformat": 4,
 "nbformat_minor": 2
}
